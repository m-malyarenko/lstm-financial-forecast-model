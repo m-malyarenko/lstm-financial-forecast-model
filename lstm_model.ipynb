{
 "cells": [
  {
   "cell_type": "markdown",
   "metadata": {},
   "source": [
    "# Deep Learning LSTM Model"
   ]
  },
  {
   "cell_type": "markdown",
   "metadata": {},
   "source": [
    "## Configuration"
   ]
  },
  {
   "cell_type": "code",
   "execution_count": 6,
   "metadata": {},
   "outputs": [],
   "source": [
    "INPUT_FILE_NAME = 'vale3.csv'\n",
    "DATA_USE_COLONS = [0, 1]\n",
    "WINDOW_SIZE = 30\n",
    "DIFFERENCE_FEATURES_NUM = 4\n",
    "TRAIN_EPOCHS_NUM = 50\n",
    "SCALER_TYPE = 'STD' # 'MINMAX'"
   ]
  },
  {
   "cell_type": "markdown",
   "metadata": {
    "tags": []
   },
   "source": [
    "## Prepare Environment"
   ]
  },
  {
   "cell_type": "code",
   "execution_count": 7,
   "metadata": {},
   "outputs": [],
   "source": [
    "# Data analysis and data wrangling\n",
    "import numpy as np\n",
    "import pandas as pd\n",
    "\n",
    "# Metrics\n",
    "from sklearn.metrics import mean_squared_error\n",
    "from sklearn.metrics import mean_absolute_percentage_error\n",
    "\n",
    "# Preprocessing\n",
    "from sklearn.preprocessing import MinMaxScaler\n",
    "from sklearn.preprocessing import StandardScaler\n",
    "from statsmodels.tsa.stattools import adfuller\n",
    "from statsmodels.tsa.seasonal import seasonal_decompose\n",
    "\n",
    "# Plotting\n",
    "import seaborn as sns\n",
    "import matplotlib.pyplot as plt\n",
    "\n",
    "# deep learning\n",
    "import keras\n",
    "from keras.models import Sequential\n",
    "from keras.layers import Dense\n",
    "from keras.layers import LSTM\n",
    "from keras.layers import Dropout\n",
    "\n",
    "# Other\n",
    "import warnings\n",
    "import pprint\n",
    "import os"
   ]
  },
  {
   "cell_type": "markdown",
   "metadata": {},
   "source": [
    "### Set Config"
   ]
  },
  {
   "cell_type": "code",
   "execution_count": 8,
   "metadata": {},
   "outputs": [],
   "source": [
    "RAW_DATA_DIR = os.curdir + \"/data/raw/\"\n",
    "PROCESSED_DATA_DIR = os.curdir + \"/data/processed/\"\n",
    "TRAIN_RATIO = 0.8\n",
    "scaler = MinMaxScaler() if SCALER_TYPE == 'MINMAX' else StandardScaler()"
   ]
  },
  {
   "cell_type": "code",
   "execution_count": 9,
   "metadata": {},
   "outputs": [
    {
     "name": "stdout",
     "output_type": "stream",
     "text": [
      "The autoreload extension is already loaded. To reload it, use:\n",
      "  %reload_ext autoreload\n"
     ]
    }
   ],
   "source": [
    "%matplotlib inline\n",
    "%load_ext autoreload\n",
    "\n",
    "# pyplot\n",
    "plt.style.use('fivethirtyeight')\n",
    "plt.style.use('seaborn')\n",
    "plt.rc('figure', figsize = (16, 8))\n",
    "plt.rc('font', size = 15)\n",
    "plt.rc('legend', fontsize = 15)\n",
    "\n",
    "# seaborn\n",
    "rc = { 'savefig.dpi': 500, \n",
    "       'figure.autolayout': True, \n",
    "       'figure.figsize': [16, 9], \n",
    "       'axes.labelsize': 18,\n",
    "       'axes.titlesize': 18, \n",
    "       'font.size': 10, \n",
    "       'lines.linewidth': 1.0, \n",
    "       'lines.markersize': 8, \n",
    "       'legend.fontsize': 15,\n",
    "       'xtick.labelsize': 15, \n",
    "       'ytick.labelsize': 15 }\n",
    "\n",
    "sns.set(context='notebook',  # notebook\n",
    "        style='darkgrid',\n",
    "        palette='deep',\n",
    "        color_codes=True, \n",
    "        rc=rc)\n",
    "\n",
    "# pandas\n",
    "pd.options.display.float_format = '{:.2f}'.format\n",
    "pd.set_option('display.max_rows', 300)\n",
    "pd.set_option('display.max_columns', None)\n",
    "\n",
    "# pretty print\n",
    "pp = pprint.PrettyPrinter(indent=4)\n",
    "\n",
    "# Supress unnecessary warnings so that presentation looks clean\n",
    "warnings.filterwarnings('ignore')"
   ]
  },
  {
   "cell_type": "markdown",
   "metadata": {},
   "source": [
    "### Load & preprocess raw data"
   ]
  },
  {
   "cell_type": "code",
   "execution_count": 10,
   "metadata": {},
   "outputs": [
    {
     "name": "stdout",
     "output_type": "stream",
     "text": [
      "Tokenization took: 0.50 ms\n",
      "Type conversion took: 0.50 ms\n",
      "Parser memory cleanup took: 0.00 ms\n"
     ]
    }
   ],
   "source": [
    "raw_df = pd.read_csv(\n",
    "    RAW_DATA_DIR + INPUT_FILE_NAME,\n",
    "    encoding = 'utf8',\n",
    "    delimiter = ',',\n",
    "    usecols = DATA_USE_COLONS,\n",
    "    header = 0,\n",
    "    names = ['date', 'price'],\n",
    "    verbose = True\n",
    ")\n",
    "\n",
    "raw_df['date'] = pd.to_datetime(raw_df['date'])\n",
    "raw_df.index = raw_df['date']\n",
    "\n",
    "decomposition = seasonal_decompose(raw_df['price'], period = WINDOW_SIZE, model='multiplicative')\n",
    "\n",
    "trend = decomposition.trend\n",
    "seasonal = decomposition.seasonal\n",
    "residual = decomposition.resid\n",
    "\n",
    "df = pd.DataFrame(columns = raw_df.columns)\n",
    "df['date'] = raw_df['date']\n",
    "df['price'] = raw_df['price']\n",
    "df['residuals'] = residual.values\n",
    "df['trend'] = trend.values\n",
    "df['seasonality'] = seasonal.values\n",
    "\n",
    "DF_SIZE = df.shape[0]\n",
    "NAN_RANGE_SIZE = WINDOW_SIZE // 2\n",
    "\n",
    "df = df[NAN_RANGE_SIZE:DF_SIZE - NAN_RANGE_SIZE]\n",
    "\n",
    "for i in range(1, DIFFERENCE_FEATURES_NUM + 1):\n",
    "    df[f'diff_{i}'] = df['price'].diff(periods = i)\n",
    "\n",
    "df.dropna(inplace=True)\n",
    "\n",
    "df.to_csv(\n",
    "    path_or_buf = PROCESSED_DATA_DIR + 'p_' + INPUT_FILE_NAME,\n",
    "    sep = ',',\n",
    "    index = False,\n",
    "    encoding = 'utf8'\n",
    ")"
   ]
  },
  {
   "cell_type": "markdown",
   "metadata": {},
   "source": [
    "### Load preprocessed data"
   ]
  },
  {
   "cell_type": "code",
   "execution_count": 11,
   "metadata": {},
   "outputs": [
    {
     "name": "stdout",
     "output_type": "stream",
     "text": [
      "Tokenization took: 2.00 ms\n",
      "Type conversion took: 2.00 ms\n",
      "Parser memory cleanup took: 0.00 ms\n"
     ]
    }
   ],
   "source": [
    "df = pd.read_csv(\n",
    "    PROCESSED_DATA_DIR + 'p_' + INPUT_FILE_NAME,\n",
    "    encoding = 'utf8',\n",
    "    delimiter = ',',\n",
    "    parse_dates = True,\n",
    "    index_col = 0,\n",
    "    verbose = True\n",
    ")"
   ]
  },
  {
   "cell_type": "markdown",
   "metadata": {
    "jp-MarkdownHeadingCollapsed": true,
    "tags": []
   },
   "source": [
    "## Split Data"
   ]
  },
  {
   "cell_type": "code",
   "execution_count": 12,
   "metadata": {},
   "outputs": [
    {
     "name": "stdout",
     "output_type": "stream",
     "text": [
      "Train dataset size: 1969\n",
      "Test dataset size: 492\n"
     ]
    }
   ],
   "source": [
    "total_size = df.shape[0]\n",
    "train_size = round(total_size * TRAIN_RATIO)\n",
    "test_size = total_size - train_size\n",
    "\n",
    "print('Train dataset size:', train_size)\n",
    "print('Test dataset size:', test_size)\n",
    "\n",
    "df_train = df.iloc[:train_size]\n",
    "df_test = df.iloc[train_size:]"
   ]
  },
  {
   "cell_type": "markdown",
   "metadata": {
    "jp-MarkdownHeadingCollapsed": true,
    "tags": []
   },
   "source": [
    "## Evaluation"
   ]
  },
  {
   "cell_type": "code",
   "execution_count": 13,
   "metadata": {},
   "outputs": [],
   "source": [
    "evaluation_history = {}"
   ]
  },
  {
   "cell_type": "code",
   "execution_count": 14,
   "metadata": {},
   "outputs": [],
   "source": [
    "def show_result_model(df_test, y_forecast, model_name):\n",
    "    future_forecast = pd.DataFrame(\n",
    "        y_forecast,\n",
    "        index = df_test.index,\n",
    "        columns = ['forecast']\n",
    "    )\n",
    "\n",
    "    mape = mean_absolute_percentage_error(df_test, y_forecast) * 100\n",
    "    mse = mean_squared_error(df_test, y_forecast, squared = True)\n",
    "\n",
    "    evaluation_history[model_name] = [mape, mse]\n",
    "    \n",
    "    pd.concat([df_test, future_forecast], axis = 1).plot()\n",
    "\n",
    "    plt.legend()\n",
    "    plt.grid(True)\n",
    "    plt.xlabel(\"Time, days\", fontsize=20)\n",
    "    plt.ylabel(\"Price, USD\", fontsize=20)\n",
    "    plt.title(f'MAPE = {mape:.2f} % | MSE = {mse:.2f}\\n' + \n",
    "    f'Window: {WINDOW_SIZE}, Epochs: {TRAIN_EPOCHS_NUM}', fontsize = 25)"
   ]
  },
  {
   "cell_type": "markdown",
   "metadata": {
    "tags": []
   },
   "source": [
    "## Modeling"
   ]
  },
  {
   "cell_type": "markdown",
   "metadata": {},
   "source": [
    "### Data normalization"
   ]
  },
  {
   "cell_type": "code",
   "execution_count": 15,
   "metadata": {},
   "outputs": [],
   "source": [
    "scaler = scaler.fit(df_train)\n",
    "df_train_scaled = scaler.transform(df_train)\n",
    "df_test_scaled = scaler.transform(df_test)"
   ]
  },
  {
   "cell_type": "code",
   "execution_count": 16,
   "metadata": {},
   "outputs": [],
   "source": [
    "def create_dataset(X, y, window):\n",
    "    Xs, ys = [], []\n",
    "    \n",
    "    for i in range(len(X) - window):\n",
    "        Xs.append(X[i:i + window])        \n",
    "        ys.append(y[i + window:i + window + 1])\n",
    "    \n",
    "    return np.array(Xs).astype('float32'), np.array(ys).astype('float32')"
   ]
  },
  {
   "cell_type": "code",
   "execution_count": 17,
   "metadata": {},
   "outputs": [
    {
     "name": "stdout",
     "output_type": "stream",
     "text": [
      "X_train shape = (1939, 30, 8)\n",
      "y_train shape = (1939, 1)\n"
     ]
    }
   ],
   "source": [
    "X_train, y_train = create_dataset(df_train_scaled, df_train_scaled[:,0], WINDOW_SIZE)\n",
    "X_test, y_test = create_dataset(df_test_scaled, df_test_scaled[:,0], WINDOW_SIZE)\n",
    "\n",
    "print(f'X_train shape = {X_train.shape}')\n",
    "print(f'y_train shape = {y_train.shape}')"
   ]
  },
  {
   "cell_type": "markdown",
   "metadata": {},
   "source": [
    "### Build LSTM Model\n",
    "- reference: https://machinelearningmastery.com/how-to-develop-lstm-models-for-time-series-forecasting/"
   ]
  },
  {
   "cell_type": "code",
   "execution_count": 18,
   "metadata": {
    "scrolled": true
   },
   "outputs": [],
   "source": [
    "model_lstm = Sequential(name = 'LSTM')"
   ]
  },
  {
   "cell_type": "markdown",
   "metadata": {},
   "source": [
    "#### Input Layer"
   ]
  },
  {
   "cell_type": "code",
   "execution_count": 19,
   "metadata": {},
   "outputs": [],
   "source": [
    "#Adding the first LSTM layer and some Dropout regularisation\n",
    "model_lstm.add(\n",
    "    LSTM(\n",
    "        units = len(df_train.columns),\n",
    "        return_sequences = True,\n",
    "        input_shape = (X_train.shape[1], X_train.shape[2])\n",
    "    )\n",
    ")\n",
    "\n",
    "model_lstm.add(Dropout(0.2))"
   ]
  },
  {
   "cell_type": "markdown",
   "metadata": {},
   "source": [
    "#### Hidden Layers"
   ]
  },
  {
   "cell_type": "code",
   "execution_count": 20,
   "metadata": {},
   "outputs": [],
   "source": [
    "# Adding a second LSTM layer and some Dropout regularisation\n",
    "model_lstm.add(LSTM(units = 10, return_sequences = True))\n",
    "model_lstm.add(Dropout(0.2))\n",
    "\n",
    "# Adding a third LSTM layer and some Dropout regularisation\n",
    "model_lstm.add(LSTM(units = 10, return_sequences = True))\n",
    "model_lstm.add(Dropout(0.2))\n",
    "\n",
    "# Adding a fourth LSTM layer and some Dropout regularisation\n",
    "model_lstm.add(LSTM(units = 10))\n",
    "model_lstm.add(Dropout(0.2))"
   ]
  },
  {
   "cell_type": "markdown",
   "metadata": {},
   "source": [
    "#### Output Layer"
   ]
  },
  {
   "cell_type": "code",
   "execution_count": 21,
   "metadata": {},
   "outputs": [],
   "source": [
    "model_lstm.add(Dense(units = 1))"
   ]
  },
  {
   "cell_type": "markdown",
   "metadata": {},
   "source": [
    "### Compile model"
   ]
  },
  {
   "cell_type": "code",
   "execution_count": 22,
   "metadata": {},
   "outputs": [
    {
     "name": "stdout",
     "output_type": "stream",
     "text": [
      "Model: \"LSTM\"\n",
      "_________________________________________________________________\n",
      " Layer (type)                Output Shape              Param #   \n",
      "=================================================================\n",
      " lstm (LSTM)                 (None, 30, 8)             544       \n",
      "                                                                 \n",
      " dropout (Dropout)           (None, 30, 8)             0         \n",
      "                                                                 \n",
      " lstm_1 (LSTM)               (None, 30, 10)            760       \n",
      "                                                                 \n",
      " dropout_1 (Dropout)         (None, 30, 10)            0         \n",
      "                                                                 \n",
      " lstm_2 (LSTM)               (None, 30, 10)            840       \n",
      "                                                                 \n",
      " dropout_2 (Dropout)         (None, 30, 10)            0         \n",
      "                                                                 \n",
      " lstm_3 (LSTM)               (None, 10)                840       \n",
      "                                                                 \n",
      " dropout_3 (Dropout)         (None, 10)                0         \n",
      "                                                                 \n",
      " dense (Dense)               (None, 1)                 11        \n",
      "                                                                 \n",
      "=================================================================\n",
      "Total params: 2,995\n",
      "Trainable params: 2,995\n",
      "Non-trainable params: 0\n",
      "_________________________________________________________________\n"
     ]
    },
    {
     "data": {
      "image/png": "[encoded data removed]",
      "text/plain": [
       "<IPython.core.display.Image object>"
      ]
     },
     "execution_count": 22,
     "metadata": {},
     "output_type": "execute_result"
    }
   ],
   "source": [
    "model_lstm.compile(\n",
    "    loss = 'mean_squared_error',\n",
    "    optimizer = 'adam',\n",
    "    metrics = ['mse', 'mape']\n",
    ")\n",
    "\n",
    "model_lstm.summary()\n",
    "keras.utils.plot_model(model_lstm)"
   ]
  },
  {
   "cell_type": "markdown",
   "metadata": {},
   "source": [
    "### Train model"
   ]
  },
  {
   "cell_type": "code",
   "execution_count": 23,
   "metadata": {},
   "outputs": [],
   "source": [
    "history = model_lstm.fit(X_train,\n",
    "                         y_train,\n",
    "                         epochs = TRAIN_EPOCHS_NUM,\n",
    "                         batch_size = WINDOW_SIZE,\n",
    "                         shuffle = False,\n",
    "                         validation_split = 0.20,\n",
    "                         verbose = False)\n",
    "history\n",
    "history.history.keys()"
   ]
  },
  {
   "cell_type": "code",
   "execution_count": null,
   "metadata": {},
   "outputs": [],
   "source": [
    "best_poch_idx = history.history[\"loss\"].index(min(history.history[\"loss\"]))\n",
    "print('Min loss', min(history.history[\"loss\"]), 'at', best_poch_idx)"
   ]
  },
  {
   "cell_type": "code",
   "execution_count": null,
   "metadata": {},
   "outputs": [],
   "source": [
    "plt.plot(history.history[\"loss\"], label = \"Training Loss\")\n",
    "plt.plot(history.history[\"val_loss\"], label = \"Validation Loss\")\n",
    "plt.ylabel('Loss')\n",
    "plt.xlabel('Epoch')\n",
    "plt.title('LSTM Loss')\n",
    "plt.legend()\n",
    "plt.show()"
   ]
  },
  {
   "cell_type": "markdown",
   "metadata": {},
   "source": [
    "### Forecast"
   ]
  },
  {
   "cell_type": "code",
   "execution_count": null,
   "metadata": {},
   "outputs": [],
   "source": [
    "y_forecast = model_lstm.predict(X_test)"
   ]
  },
  {
   "cell_type": "code",
   "execution_count": null,
   "metadata": {},
   "outputs": [],
   "source": [
    "y_test_tmp = np.repeat(y_test, df_train.shape[1], axis = -1)\n",
    "y_train_tmp = np.repeat(y_train, df_train.shape[1], axis = -1)\n",
    "y_forecast_tmp = np.repeat(y_forecast, df_train.shape[1], axis = -1)\n",
    "\n",
    "y_test = scaler.inverse_transform(y_test_tmp)[:,0]\n",
    "y_train = scaler.inverse_transform(y_train_tmp)[:,0]\n",
    "y_forecast = scaler.inverse_transform(y_forecast_tmp)[:,0]"
   ]
  },
  {
   "cell_type": "code",
   "execution_count": null,
   "metadata": {},
   "outputs": [],
   "source": [
    "show_result_model(df_test=df_test['price'][WINDOW_SIZE:test_size], \n",
    "                  y_forecast=y_forecast[:test_size - WINDOW_SIZE],\n",
    "                  model_name=f'lstm_{SCALER_TYPE}_{WINDOW_SIZE}_{TRAIN_EPOCHS_NUM}')"
   ]
  },
  {
   "cell_type": "code",
   "execution_count": null,
   "metadata": {},
   "outputs": [],
   "source": [
    "df_train.index"
   ]
  },
  {
   "cell_type": "markdown",
   "metadata": {},
   "source": [
    "## Results"
   ]
  },
  {
   "cell_type": "code",
   "execution_count": null,
   "metadata": {},
   "outputs": [],
   "source": [
    "evaluation_history"
   ]
  }
 ],
 "metadata": {
  "kernelspec": {
   "display_name": "Python 3.9.13 ('base')",
   "language": "python",
   "name": "python3"
  },
  "language_info": {
   "codemirror_mode": {
    "name": "ipython",
    "version": 3
   },
   "file_extension": ".py",
   "mimetype": "text/x-python",
   "name": "python",
   "nbconvert_exporter": "python",
   "pygments_lexer": "ipython3",
   "version": "3.9.13"
  },
  "vscode": {
   "interpreter": {
    "hash": "e4cce46d6be9934fbd27f9ca0432556941ea5bdf741d4f4d64c6cd7f8dfa8fba"
   }
  }
 },
 "nbformat": 4,
 "nbformat_minor": 4
}
